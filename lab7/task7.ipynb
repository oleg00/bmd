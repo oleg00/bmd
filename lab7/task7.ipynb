{
 "cells": [
  {
   "cell_type": "markdown",
   "metadata": {
    "colab_type": "text",
    "id": "0dKG-0kcOvBa"
   },
   "source": [
    "# t-критерій Стьюдента для незалежних вибірок"
   ]
  },
  {
   "cell_type": "markdown",
   "metadata": {
    "colab_type": "text",
    "id": "cIlCjn4RO0Gr"
   },
   "source": [
    "##Теоретичні відомості"
   ]
  },
  {
   "cell_type": "markdown",
   "metadata": {
    "colab_type": "text",
    "id": "fIEmaRDC8EYQ"
   },
   "source": [
    "t-критерій Стьюдента для незалежних вибірок порівнює середні двох груп, щоб визначити, чи є статистичні достовірні докази того, що групи відрізняються. **Це параметричний тест.**\n"
   ]
  },
  {
   "cell_type": "markdown",
   "metadata": {
    "colab_type": "text",
    "id": "1COxk0l1O87G"
   },
   "source": [
    "### Область застосування"
   ]
  },
  {
   "cell_type": "markdown",
   "metadata": {
    "colab_type": "text",
    "id": "i2ExJ3XaPTr4"
   },
   "source": [
    "t-критерій Стьюдента для незалежних вибірок використовується для:\n",
    "\n",
    "* визначення статистичних відмінностей між середніми двох груп\n",
    "\n",
    "*Примітка.* Даний тест може порівнювати середні лише для двох (і лише двох) груп. Він не може проводити порівняння більш ніж двох груп. "
   ]
  },
  {
   "cell_type": "markdown",
   "metadata": {
    "colab_type": "text",
    "id": "dpLSZD4mPDMx"
   },
   "source": [
    "### Вимоги до даних"
   ]
  },
  {
   "cell_type": "markdown",
   "metadata": {
    "colab_type": "text",
    "id": "pta7ByUO8Yxc"
   },
   "source": [
    "Ваші дані повинні відповідати наступним вимогам:\n",
    "\n",
    "1. Залежна змінна є кількісною і безперервною.\n",
    "2. Незалежна змінна є категоріальною.\n",
    "3. Немає взаємозв'язку між випробуванями у групах. Це означає що:\n",
    "* суб'єкти в першій групі також не можуть бути у другій групі\n",
    "* жоден суб'єкт в будь-якій групі не може впливати на суб'єктів в іншій групі\n",
    "* жодна група не може впливати на іншу групу\n",
    "Порушення цього припущення дасть неточне значення p\n",
    "4. Вибірка даних є випадковою\n",
    "5. Нормальний розподіл залежної (кількісної) змінної для кожної групи\n",
    "* ненормальний розподіл значно знижує потужність (точність) тесту\n",
    "* при дослідженні великих груп порушення нормальності все ще може дати точні значення p\n",
    "6. Однорідність дисперсій. \n",
    "* коли це припущення порушено і розміри вибірки для кожної групи відрізняються, значення p не є надійним. В цьому випадку застосовують альтернативний тест, який назіваеться t тестом Велча. Даний тест ґрунтується на припущенні відмінних дисперсій сукупності. \n",
    "7. Дані не містять викидів. \n",
    "\n",
    "Дослідники також мають притримуватися кількох правил:\n",
    "\n",
    "* Кожна група повинна мати щонайменше 6 спостережень, в ідеалі більше. \n",
    "\n",
    "* Збалансований дизайн (тобто однакова кількість спостережень у кожній групі). Групи, що мають значну відмінність в об'ємі можуть змінити достовірність отриманих результатів."
   ]
  },
  {
   "cell_type": "markdown",
   "metadata": {
    "colab_type": "text",
    "id": "P7aeDpVjPF-Z"
   },
   "source": [
    "### Гіпотеза"
   ]
  },
  {
   "cell_type": "markdown",
   "metadata": {
    "colab_type": "text",
    "id": "EPfCMt59_oz0"
   },
   "source": [
    "Гіпотеза, яка перевіряєть даним тестом може бути виражена наступним чином:\n",
    "\n",
    "$H_0 : μ_1  = μ_2$ («середні двох незалежних груп рівні»)\n",
    "\n",
    "$H_1 : μ_1  ≠ μ_2$ («середні двох незалежних груп відмінні»)\n",
    "\n",
    "або:\n",
    "\n",
    "$H_0 : μ_1  - μ_2 = 0$ («різниця між середніми у незалежних групах за показником, що досліджується рівна 0»)\n",
    "\n",
    "$H_1 : μ_1 -  μ_2$ ≠ 0 $ («різниця між середніми у незалежних групах за показником, що досліджується не рівна 0»)\n",
    "\n",
    "Тут $μ_1$ - середнє значення змінної в першій групі; $μ_2$ - середнє значення змінної в першій групі."
   ]
  },
  {
   "cell_type": "markdown",
   "metadata": {
    "colab_type": "text",
    "id": "ZfYgprcrPLGZ"
   },
   "source": [
    "### Алгоритм розрахунку"
   ]
  },
  {
   "cell_type": "markdown",
   "metadata": {
    "colab_type": "text",
    "id": "Hrnm4szRAC3m"
   },
   "source": [
    "Зважаючи на те, що однією з вимог для використанная данного критерію є однорідність дисперсій перед проведенням t-критерію Стьюдента для незалежних вибірок необхідним є проведення тесту Лівеня.\n"
   ]
  },
  {
   "cell_type": "markdown",
   "metadata": {
    "colab_type": "text",
    "id": "akpPreH4AuW_"
   },
   "source": [
    "#### Тест Лівеня для перевірки рівності дисперсій"
   ]
  },
  {
   "cell_type": "markdown",
   "metadata": {
    "colab_type": "text",
    "id": "jKwhq22PA18u"
   },
   "source": [
    "Нульова гіпотеза для даного тесту визлядає наступним чином:\n",
    "\n",
    "$$H_0: \\sigma_1^2 = \\sigma_2^2$$\n",
    "\n",
    "Генеральні дисперсії оцінюються на основі вибірок, а сам критерій є відношенням однієї дисперсії до іншої:\n",
    "\n",
    "$$F = \\frac{\\sigma_1^2}{\\sigma_2^2}$$\n",
    "\n",
    "При цьому на практиці в чисельнику розміщують більшу дисперсію, і знаменник - меншу.\n",
    "\n",
    "Ступінь свободи для даного тесту розраховується окремо для кожної вибірки: \n",
    "\n",
    "$$df = n - 1 $$\n",
    "\n",
    "За допомогою [таблиці критичних значень](https://drive.google.com/open?id=128lJvGOp013TuMF5Tcfr5Q2AC7FFvXEl)  знаходимо критичне значення. Якщо розраховане значення більше критичного - нульову гіпотезу відхиляють та роблять висновок про статистичну відмінність дисперсій. В протилежному випадку приймають нульову гіпотезу.\n"
   ]
  },
  {
   "cell_type": "markdown",
   "metadata": {
    "colab_type": "text",
    "id": "nTmiY7f7HCFe"
   },
   "source": [
    "#### t критерій для незалежних вибірок"
   ]
  },
  {
   "cell_type": "markdown",
   "metadata": {
    "colab_type": "text",
    "id": "35LaS12fHKqY"
   },
   "source": [
    "1. В залежності від того, чи підтвердується гіпотеза про рівність дисперсій застосовують один з двох підходів до роозрахунку криетрію для незалежних вибірок.\n",
    "\n",
    "#### Припускається рівність дисперсій\n",
    "\n",
    "Розрахунок t-критерію за формулою:\n",
    "\n",
    "$$t = \\frac{|M_1 - M_2|}{\\sqrt{\\frac{\\sigma_1^2}{N_1}+\\frac{\\sigma_2^2}{N_2}}} $$\n",
    "\n",
    "#### Рівність дисперсій не доведено\n",
    "\n",
    "Розрахунок t-критерію за формулою:\n",
    "\n",
    "$$t = \\frac{|M_1 - M_2|}{\\sqrt{\\frac{(N_1 - 1)\\sigma_1^2 + (N_2 - 1)\\sigma_2^2}{N_1 + N_2 - 2}(\\frac{1}{N_1}+\\frac{1}{N_2})}} $$\n",
    "\n",
    "Для обох формул:\n",
    "\n",
    "$M_1, M_2$ - середньоарифметичне для двох груп\n",
    "\n",
    "$\\sigma_1, \\sigma_2$ - стандартне відхилення\n",
    "\n",
    "$N_1, N_2$ - кількість спостережень в вибірках\n",
    "\n",
    "\n",
    "2. Визначаємо ступінь свободи:\n",
    "\n",
    "$$ \\,df = N_1 + N_2 - 2 $$\n",
    "\n",
    "3. Визначаємо по [таблиці критичних значень t-Стьюдента](https://drive.google.com/open?id=12IEWx2mkE-2_jkMgkHwvUUlVfCcmH7Ub) критичне значення.\n",
    "\n",
    "Якщо розраховане значення більше критичного - нульову гіпотезу відхиляють та роблять висновок про статистичну відмінність середніх. В протилежному випадку приймають нульову гіпотезу.\n"
   ]
  },
  {
   "cell_type": "markdown",
   "metadata": {
    "colab_type": "text",
    "id": "Q4l7F1kePOoQ"
   },
   "source": [
    "## Завдання\n"
   ]
  },
  {
   "cell_type": "markdown",
   "metadata": {
    "colab_type": "text",
    "id": "dKlVUziSKf3v"
   },
   "source": [
    "# Завдання\n",
    "\n",
    "1. Обрати реальні дані з kaggle або сгенерувати випадкові дані. Дані мають відповідати вимогам викладеним вище. \n",
    "\n",
    "2. Побудувати графік, що відображає розкид даних в групах. Приклад:\n",
    "![alt text](https://s3.amazonaws.com/libapps/accounts/2515/images/spss_paired-t_example_boxplot.PNG)\n",
    "\n",
    "3. Написати функції:\n",
    "* для оцінки вімінностей дисперсій між групами за критерієм Лівеня. Функція має повертати значення тесту  та результат оцінки рівності дисперсій (significant або not significant).\n",
    "\n",
    "* для визначення відмінності між групами за критерієм Стьюдента в залежності від рівності/відмінності дисперсій. Функція має повертати значення критерію Стьюдента,значення ступеня свободи та результат оцінки значимості зв'зку (significant або not significant). \n",
    "\n",
    "4. Перевірити розбіжність на між групами на даних з п. 1. \n",
    "\n"
   ]
  },
  {
   "cell_type": "markdown",
   "metadata": {},
   "source": [
    "# 1. Dataset\n",
    "\n",
    "https://www.kaggle.com/noahgift/social-power-nba : 2017_stats_combined (TEAM <-> OFFENSIVE REAL PLUS-MINUS)"
   ]
  },
  {
   "cell_type": "code",
   "execution_count": 13,
   "metadata": {},
   "outputs": [
    {
     "data": {
      "text/html": [
       "<div>\n",
       "<style scoped>\n",
       "    .dataframe tbody tr th:only-of-type {\n",
       "        vertical-align: middle;\n",
       "    }\n",
       "\n",
       "    .dataframe tbody tr th {\n",
       "        vertical-align: top;\n",
       "    }\n",
       "\n",
       "    .dataframe thead th {\n",
       "        text-align: right;\n",
       "    }\n",
       "</style>\n",
       "<table border=\"1\" class=\"dataframe\">\n",
       "  <thead>\n",
       "    <tr style=\"text-align: right;\">\n",
       "      <th></th>\n",
       "      <th>Unnamed: 0</th>\n",
       "      <th>Rk</th>\n",
       "      <th>PLAYER</th>\n",
       "      <th>POSITION</th>\n",
       "      <th>AGE</th>\n",
       "      <th>MP</th>\n",
       "      <th>FG</th>\n",
       "      <th>FGA</th>\n",
       "      <th>FG%</th>\n",
       "      <th>3P</th>\n",
       "      <th>...</th>\n",
       "      <th>TEAM</th>\n",
       "      <th>GP</th>\n",
       "      <th>MPG</th>\n",
       "      <th>ORPM</th>\n",
       "      <th>DRPM</th>\n",
       "      <th>RPM</th>\n",
       "      <th>WINS_RPM</th>\n",
       "      <th>PIE</th>\n",
       "      <th>PACE</th>\n",
       "      <th>W</th>\n",
       "    </tr>\n",
       "  </thead>\n",
       "  <tbody>\n",
       "    <tr>\n",
       "      <th>0</th>\n",
       "      <td>0</td>\n",
       "      <td>1</td>\n",
       "      <td>Russell Westbrook</td>\n",
       "      <td>PG</td>\n",
       "      <td>28</td>\n",
       "      <td>34.6</td>\n",
       "      <td>10.2</td>\n",
       "      <td>24.0</td>\n",
       "      <td>0.425</td>\n",
       "      <td>2.5</td>\n",
       "      <td>...</td>\n",
       "      <td>OKC</td>\n",
       "      <td>81</td>\n",
       "      <td>34.6</td>\n",
       "      <td>6.74</td>\n",
       "      <td>-0.47</td>\n",
       "      <td>6.27</td>\n",
       "      <td>17.34</td>\n",
       "      <td>23.0</td>\n",
       "      <td>102.31</td>\n",
       "      <td>46</td>\n",
       "    </tr>\n",
       "    <tr>\n",
       "      <th>1</th>\n",
       "      <td>1</td>\n",
       "      <td>2</td>\n",
       "      <td>James Harden</td>\n",
       "      <td>PG</td>\n",
       "      <td>27</td>\n",
       "      <td>36.4</td>\n",
       "      <td>8.3</td>\n",
       "      <td>18.9</td>\n",
       "      <td>0.440</td>\n",
       "      <td>3.2</td>\n",
       "      <td>...</td>\n",
       "      <td>HOU</td>\n",
       "      <td>81</td>\n",
       "      <td>36.4</td>\n",
       "      <td>6.38</td>\n",
       "      <td>-1.57</td>\n",
       "      <td>4.81</td>\n",
       "      <td>15.54</td>\n",
       "      <td>19.0</td>\n",
       "      <td>102.98</td>\n",
       "      <td>54</td>\n",
       "    </tr>\n",
       "    <tr>\n",
       "      <th>2</th>\n",
       "      <td>2</td>\n",
       "      <td>3</td>\n",
       "      <td>Isaiah Thomas</td>\n",
       "      <td>PG</td>\n",
       "      <td>27</td>\n",
       "      <td>33.8</td>\n",
       "      <td>9.0</td>\n",
       "      <td>19.4</td>\n",
       "      <td>0.463</td>\n",
       "      <td>3.2</td>\n",
       "      <td>...</td>\n",
       "      <td>BOS</td>\n",
       "      <td>76</td>\n",
       "      <td>33.8</td>\n",
       "      <td>5.72</td>\n",
       "      <td>-3.89</td>\n",
       "      <td>1.83</td>\n",
       "      <td>8.19</td>\n",
       "      <td>16.1</td>\n",
       "      <td>99.84</td>\n",
       "      <td>51</td>\n",
       "    </tr>\n",
       "    <tr>\n",
       "      <th>3</th>\n",
       "      <td>3</td>\n",
       "      <td>4</td>\n",
       "      <td>Anthony Davis</td>\n",
       "      <td>C</td>\n",
       "      <td>23</td>\n",
       "      <td>36.1</td>\n",
       "      <td>10.3</td>\n",
       "      <td>20.3</td>\n",
       "      <td>0.505</td>\n",
       "      <td>0.5</td>\n",
       "      <td>...</td>\n",
       "      <td>NO</td>\n",
       "      <td>75</td>\n",
       "      <td>36.1</td>\n",
       "      <td>0.45</td>\n",
       "      <td>3.90</td>\n",
       "      <td>4.35</td>\n",
       "      <td>12.81</td>\n",
       "      <td>19.2</td>\n",
       "      <td>100.19</td>\n",
       "      <td>31</td>\n",
       "    </tr>\n",
       "    <tr>\n",
       "      <th>4</th>\n",
       "      <td>4</td>\n",
       "      <td>5</td>\n",
       "      <td>DeMar DeRozan</td>\n",
       "      <td>SG</td>\n",
       "      <td>27</td>\n",
       "      <td>35.4</td>\n",
       "      <td>9.7</td>\n",
       "      <td>20.9</td>\n",
       "      <td>0.467</td>\n",
       "      <td>0.4</td>\n",
       "      <td>...</td>\n",
       "      <td>TOR</td>\n",
       "      <td>74</td>\n",
       "      <td>35.4</td>\n",
       "      <td>2.21</td>\n",
       "      <td>-2.04</td>\n",
       "      <td>0.17</td>\n",
       "      <td>5.46</td>\n",
       "      <td>15.5</td>\n",
       "      <td>97.69</td>\n",
       "      <td>47</td>\n",
       "    </tr>\n",
       "    <tr>\n",
       "      <th>...</th>\n",
       "      <td>...</td>\n",
       "      <td>...</td>\n",
       "      <td>...</td>\n",
       "      <td>...</td>\n",
       "      <td>...</td>\n",
       "      <td>...</td>\n",
       "      <td>...</td>\n",
       "      <td>...</td>\n",
       "      <td>...</td>\n",
       "      <td>...</td>\n",
       "      <td>...</td>\n",
       "      <td>...</td>\n",
       "      <td>...</td>\n",
       "      <td>...</td>\n",
       "      <td>...</td>\n",
       "      <td>...</td>\n",
       "      <td>...</td>\n",
       "      <td>...</td>\n",
       "      <td>...</td>\n",
       "      <td>...</td>\n",
       "      <td>...</td>\n",
       "    </tr>\n",
       "    <tr>\n",
       "      <th>441</th>\n",
       "      <td>441</td>\n",
       "      <td>480</td>\n",
       "      <td>Michael Gbinije</td>\n",
       "      <td>SG</td>\n",
       "      <td>24</td>\n",
       "      <td>3.6</td>\n",
       "      <td>0.1</td>\n",
       "      <td>1.1</td>\n",
       "      <td>0.100</td>\n",
       "      <td>0.0</td>\n",
       "      <td>...</td>\n",
       "      <td>DET</td>\n",
       "      <td>9</td>\n",
       "      <td>3.6</td>\n",
       "      <td>-2.17</td>\n",
       "      <td>-0.17</td>\n",
       "      <td>-2.34</td>\n",
       "      <td>0.02</td>\n",
       "      <td>-2.7</td>\n",
       "      <td>91.34</td>\n",
       "      <td>7</td>\n",
       "    </tr>\n",
       "    <tr>\n",
       "      <th>442</th>\n",
       "      <td>442</td>\n",
       "      <td>481</td>\n",
       "      <td>John Lucas III</td>\n",
       "      <td>PG</td>\n",
       "      <td>34</td>\n",
       "      <td>2.2</td>\n",
       "      <td>0.2</td>\n",
       "      <td>0.8</td>\n",
       "      <td>0.250</td>\n",
       "      <td>0.0</td>\n",
       "      <td>...</td>\n",
       "      <td>MIN</td>\n",
       "      <td>5</td>\n",
       "      <td>2.2</td>\n",
       "      <td>-1.30</td>\n",
       "      <td>-0.61</td>\n",
       "      <td>-1.91</td>\n",
       "      <td>0.01</td>\n",
       "      <td>7.3</td>\n",
       "      <td>94.47</td>\n",
       "      <td>3</td>\n",
       "    </tr>\n",
       "    <tr>\n",
       "      <th>443</th>\n",
       "      <td>443</td>\n",
       "      <td>482</td>\n",
       "      <td>Aaron Harrison</td>\n",
       "      <td>SG</td>\n",
       "      <td>22</td>\n",
       "      <td>3.4</td>\n",
       "      <td>0.0</td>\n",
       "      <td>0.8</td>\n",
       "      <td>0.000</td>\n",
       "      <td>0.0</td>\n",
       "      <td>...</td>\n",
       "      <td>CHA</td>\n",
       "      <td>5</td>\n",
       "      <td>3.4</td>\n",
       "      <td>-1.42</td>\n",
       "      <td>-0.32</td>\n",
       "      <td>-1.74</td>\n",
       "      <td>0.01</td>\n",
       "      <td>0.0</td>\n",
       "      <td>92.43</td>\n",
       "      <td>2</td>\n",
       "    </tr>\n",
       "    <tr>\n",
       "      <th>444</th>\n",
       "      <td>444</td>\n",
       "      <td>483</td>\n",
       "      <td>Ben Bentil</td>\n",
       "      <td>PF</td>\n",
       "      <td>21</td>\n",
       "      <td>3.3</td>\n",
       "      <td>0.0</td>\n",
       "      <td>1.0</td>\n",
       "      <td>0.000</td>\n",
       "      <td>0.0</td>\n",
       "      <td>...</td>\n",
       "      <td>DAL</td>\n",
       "      <td>3</td>\n",
       "      <td>3.3</td>\n",
       "      <td>-1.95</td>\n",
       "      <td>0.65</td>\n",
       "      <td>-1.30</td>\n",
       "      <td>0.01</td>\n",
       "      <td>-6.1</td>\n",
       "      <td>106.15</td>\n",
       "      <td>2</td>\n",
       "    </tr>\n",
       "    <tr>\n",
       "      <th>445</th>\n",
       "      <td>445</td>\n",
       "      <td>484</td>\n",
       "      <td>Patricio Garino</td>\n",
       "      <td>SG</td>\n",
       "      <td>23</td>\n",
       "      <td>8.6</td>\n",
       "      <td>0.0</td>\n",
       "      <td>1.4</td>\n",
       "      <td>0.000</td>\n",
       "      <td>0.0</td>\n",
       "      <td>...</td>\n",
       "      <td>ORL</td>\n",
       "      <td>5</td>\n",
       "      <td>8.6</td>\n",
       "      <td>-2.61</td>\n",
       "      <td>-0.40</td>\n",
       "      <td>-3.01</td>\n",
       "      <td>0.00</td>\n",
       "      <td>-4.9</td>\n",
       "      <td>95.65</td>\n",
       "      <td>2</td>\n",
       "    </tr>\n",
       "  </tbody>\n",
       "</table>\n",
       "<p>446 rows × 38 columns</p>\n",
       "</div>"
      ],
      "text/plain": [
       "     Unnamed: 0   Rk             PLAYER POSITION  AGE    MP    FG   FGA  \\\n",
       "0             0    1  Russell Westbrook       PG   28  34.6  10.2  24.0   \n",
       "1             1    2       James Harden       PG   27  36.4   8.3  18.9   \n",
       "2             2    3      Isaiah Thomas       PG   27  33.8   9.0  19.4   \n",
       "3             3    4      Anthony Davis        C   23  36.1  10.3  20.3   \n",
       "4             4    5      DeMar DeRozan       SG   27  35.4   9.7  20.9   \n",
       "..          ...  ...                ...      ...  ...   ...   ...   ...   \n",
       "441         441  480    Michael Gbinije       SG   24   3.6   0.1   1.1   \n",
       "442         442  481     John Lucas III       PG   34   2.2   0.2   0.8   \n",
       "443         443  482     Aaron Harrison       SG   22   3.4   0.0   0.8   \n",
       "444         444  483         Ben Bentil       PF   21   3.3   0.0   1.0   \n",
       "445         445  484    Patricio Garino       SG   23   8.6   0.0   1.4   \n",
       "\n",
       "       FG%   3P  ...  TEAM  GP   MPG  ORPM  DRPM   RPM  WINS_RPM   PIE  \\\n",
       "0    0.425  2.5  ...   OKC  81  34.6  6.74 -0.47  6.27     17.34  23.0   \n",
       "1    0.440  3.2  ...   HOU  81  36.4  6.38 -1.57  4.81     15.54  19.0   \n",
       "2    0.463  3.2  ...   BOS  76  33.8  5.72 -3.89  1.83      8.19  16.1   \n",
       "3    0.505  0.5  ...    NO  75  36.1  0.45  3.90  4.35     12.81  19.2   \n",
       "4    0.467  0.4  ...   TOR  74  35.4  2.21 -2.04  0.17      5.46  15.5   \n",
       "..     ...  ...  ...   ...  ..   ...   ...   ...   ...       ...   ...   \n",
       "441  0.100  0.0  ...   DET   9   3.6 -2.17 -0.17 -2.34      0.02  -2.7   \n",
       "442  0.250  0.0  ...   MIN   5   2.2 -1.30 -0.61 -1.91      0.01   7.3   \n",
       "443  0.000  0.0  ...   CHA   5   3.4 -1.42 -0.32 -1.74      0.01   0.0   \n",
       "444  0.000  0.0  ...   DAL   3   3.3 -1.95  0.65 -1.30      0.01  -6.1   \n",
       "445  0.000  0.0  ...   ORL   5   8.6 -2.61 -0.40 -3.01      0.00  -4.9   \n",
       "\n",
       "       PACE   W  \n",
       "0    102.31  46  \n",
       "1    102.98  54  \n",
       "2     99.84  51  \n",
       "3    100.19  31  \n",
       "4     97.69  47  \n",
       "..      ...  ..  \n",
       "441   91.34   7  \n",
       "442   94.47   3  \n",
       "443   92.43   2  \n",
       "444  106.15   2  \n",
       "445   95.65   2  \n",
       "\n",
       "[446 rows x 38 columns]"
      ]
     },
     "execution_count": 13,
     "metadata": {},
     "output_type": "execute_result"
    }
   ],
   "source": [
    "import numpy as np\n",
    "import pandas as pd\n",
    "import seaborn as sns\n",
    "import scipy.stats as scipy\n",
    "import matplotlib.pyplot as plt\n",
    "\n",
    "data = pd.read_csv('nba_2017_players_stats_combined.csv')\n",
    "data"
   ]
  },
  {
   "cell_type": "code",
   "execution_count": 104,
   "metadata": {},
   "outputs": [
    {
     "data": {
      "text/html": [
       "<div>\n",
       "<style scoped>\n",
       "    .dataframe tbody tr th:only-of-type {\n",
       "        vertical-align: middle;\n",
       "    }\n",
       "\n",
       "    .dataframe tbody tr th {\n",
       "        vertical-align: top;\n",
       "    }\n",
       "\n",
       "    .dataframe thead th {\n",
       "        text-align: right;\n",
       "    }\n",
       "</style>\n",
       "<table border=\"1\" class=\"dataframe\">\n",
       "  <thead>\n",
       "    <tr style=\"text-align: right;\">\n",
       "      <th></th>\n",
       "      <th>TEAM</th>\n",
       "      <th>ORPM</th>\n",
       "    </tr>\n",
       "  </thead>\n",
       "  <tbody>\n",
       "    <tr>\n",
       "      <th>7</th>\n",
       "      <td>CLE</td>\n",
       "      <td>6.49</td>\n",
       "    </tr>\n",
       "    <tr>\n",
       "      <th>9</th>\n",
       "      <td>GS</td>\n",
       "      <td>7.27</td>\n",
       "    </tr>\n",
       "    <tr>\n",
       "      <th>10</th>\n",
       "      <td>CLE</td>\n",
       "      <td>4.35</td>\n",
       "    </tr>\n",
       "    <tr>\n",
       "      <th>11</th>\n",
       "      <td>GS</td>\n",
       "      <td>4.41</td>\n",
       "    </tr>\n",
       "    <tr>\n",
       "      <th>22</th>\n",
       "      <td>GS</td>\n",
       "      <td>2.78</td>\n",
       "    </tr>\n",
       "    <tr>\n",
       "      <th>34</th>\n",
       "      <td>CLE</td>\n",
       "      <td>2.77</td>\n",
       "    </tr>\n",
       "    <tr>\n",
       "      <th>135</th>\n",
       "      <td>GS</td>\n",
       "      <td>1.55</td>\n",
       "    </tr>\n",
       "    <tr>\n",
       "      <th>167</th>\n",
       "      <td>CLE</td>\n",
       "      <td>1.62</td>\n",
       "    </tr>\n",
       "    <tr>\n",
       "      <th>170</th>\n",
       "      <td>CLE</td>\n",
       "      <td>-1.68</td>\n",
       "    </tr>\n",
       "    <tr>\n",
       "      <th>194</th>\n",
       "      <td>CLE</td>\n",
       "      <td>-1.31</td>\n",
       "    </tr>\n",
       "    <tr>\n",
       "      <th>206</th>\n",
       "      <td>GS</td>\n",
       "      <td>2.01</td>\n",
       "    </tr>\n",
       "    <tr>\n",
       "      <th>208</th>\n",
       "      <td>CLE</td>\n",
       "      <td>-0.98</td>\n",
       "    </tr>\n",
       "    <tr>\n",
       "      <th>230</th>\n",
       "      <td>GS</td>\n",
       "      <td>-1.08</td>\n",
       "    </tr>\n",
       "    <tr>\n",
       "      <th>266</th>\n",
       "      <td>GS</td>\n",
       "      <td>0.83</td>\n",
       "    </tr>\n",
       "    <tr>\n",
       "      <th>267</th>\n",
       "      <td>GS</td>\n",
       "      <td>-0.31</td>\n",
       "    </tr>\n",
       "    <tr>\n",
       "      <th>279</th>\n",
       "      <td>CLE</td>\n",
       "      <td>-1.16</td>\n",
       "    </tr>\n",
       "    <tr>\n",
       "      <th>304</th>\n",
       "      <td>GS</td>\n",
       "      <td>-2.55</td>\n",
       "    </tr>\n",
       "    <tr>\n",
       "      <th>327</th>\n",
       "      <td>GS</td>\n",
       "      <td>-1.47</td>\n",
       "    </tr>\n",
       "    <tr>\n",
       "      <th>334</th>\n",
       "      <td>CLE</td>\n",
       "      <td>-2.19</td>\n",
       "    </tr>\n",
       "    <tr>\n",
       "      <th>347</th>\n",
       "      <td>CLE</td>\n",
       "      <td>-3.39</td>\n",
       "    </tr>\n",
       "    <tr>\n",
       "      <th>349</th>\n",
       "      <td>GS</td>\n",
       "      <td>-3.09</td>\n",
       "    </tr>\n",
       "    <tr>\n",
       "      <th>384</th>\n",
       "      <td>CLE</td>\n",
       "      <td>-0.91</td>\n",
       "    </tr>\n",
       "    <tr>\n",
       "      <th>385</th>\n",
       "      <td>GS</td>\n",
       "      <td>-3.15</td>\n",
       "    </tr>\n",
       "    <tr>\n",
       "      <th>400</th>\n",
       "      <td>GS</td>\n",
       "      <td>-2.03</td>\n",
       "    </tr>\n",
       "    <tr>\n",
       "      <th>404</th>\n",
       "      <td>CLE</td>\n",
       "      <td>-1.40</td>\n",
       "    </tr>\n",
       "    <tr>\n",
       "      <th>415</th>\n",
       "      <td>GS</td>\n",
       "      <td>-2.58</td>\n",
       "    </tr>\n",
       "    <tr>\n",
       "      <th>433</th>\n",
       "      <td>GS</td>\n",
       "      <td>-1.74</td>\n",
       "    </tr>\n",
       "  </tbody>\n",
       "</table>\n",
       "</div>"
      ],
      "text/plain": [
       "    TEAM  ORPM\n",
       "7    CLE  6.49\n",
       "9     GS  7.27\n",
       "10   CLE  4.35\n",
       "11    GS  4.41\n",
       "22    GS  2.78\n",
       "34   CLE  2.77\n",
       "135   GS  1.55\n",
       "167  CLE  1.62\n",
       "170  CLE -1.68\n",
       "194  CLE -1.31\n",
       "206   GS  2.01\n",
       "208  CLE -0.98\n",
       "230   GS -1.08\n",
       "266   GS  0.83\n",
       "267   GS -0.31\n",
       "279  CLE -1.16\n",
       "304   GS -2.55\n",
       "327   GS -1.47\n",
       "334  CLE -2.19\n",
       "347  CLE -3.39\n",
       "349   GS -3.09\n",
       "384  CLE -0.91\n",
       "385   GS -3.15\n",
       "400   GS -2.03\n",
       "404  CLE -1.40\n",
       "415   GS -2.58\n",
       "433   GS -1.74"
      ]
     },
     "execution_count": 104,
     "metadata": {},
     "output_type": "execute_result"
    }
   ],
   "source": [
    "sortedData = data.loc[ (data['TEAM'] == 'CLE') | (data['TEAM'] == 'GS') ]\n",
    "sortedData = sortedData[['TEAM', 'ORPM']]\n",
    "sortedData"
   ]
  },
  {
   "cell_type": "code",
   "execution_count": 111,
   "metadata": {},
   "outputs": [
    {
     "data": {
      "text/plain": [
       "[array([ 6.49,  4.35,  2.77,  1.62, -1.68, -1.31, -0.98, -1.16, -2.19,\n",
       "        -3.39, -0.91, -1.4 ]),\n",
       " array([ 7.27,  4.41,  2.78,  1.55,  2.01, -1.08,  0.83, -0.31, -2.55,\n",
       "        -1.47, -3.09, -3.15, -2.03, -2.58, -1.74])]"
      ]
     },
     "execution_count": 111,
     "metadata": {},
     "output_type": "execute_result"
    }
   ],
   "source": [
    "# 2 groups (by team)\n",
    "cleORPM = []\n",
    "gsORPM = []\n",
    "\n",
    "for index, row in data.iterrows():\n",
    "    if (row['TEAM'] == 'CLE'):\n",
    "        cleORPM.append(row['ORPM'])\n",
    "    if (row['TEAM'] == 'GS'):\n",
    "        gsORPM.append(row['ORPM'])\n",
    "cleORPM = np.array(cleORPM)\n",
    "gsORPM = np.array(gsORPM)\n",
    "groupedData = [cleORPM, gsORPM] \n",
    "groupedData"
   ]
  },
  {
   "cell_type": "code",
   "execution_count": 112,
   "metadata": {},
   "outputs": [
    {
     "name": "stdout",
     "output_type": "stream",
     "text": [
      "Cleveland points normality:  (0.8643467426300049, 0.055435411632061005)\n",
      "GoldenState points normality:  (0.8952513933181763, 0.08056050539016724)\n",
      "p > 0.05 -> normally distributed\n"
     ]
    }
   ],
   "source": [
    "# Shapiro normality check\n",
    "\n",
    "print('Cleveland points normality: ', scipy.shapiro(cleORPM))\n",
    "print('GoldenState points normality: ', scipy.shapiro(gsORPM))\n",
    "print('p > 0.05 -> normally distributed')"
   ]
  },
  {
   "cell_type": "markdown",
   "metadata": {},
   "source": [
    "# 2. Plot"
   ]
  },
  {
   "cell_type": "code",
   "execution_count": 114,
   "metadata": {},
   "outputs": [
    {
     "data": {
      "text/plain": [
       "[Text(0, 0, 'CLE'), Text(0, 0, 'GS')]"
      ]
     },
     "execution_count": 114,
     "metadata": {},
     "output_type": "execute_result"
    },
    {
     "data": {
      "image/png": "[encoded data removed]",
      "text/plain": [
       "<Figure size 432x288 with 1 Axes>"
      ]
     },
     "metadata": {
      "needs_background": "light"
     },
     "output_type": "display_data"
    }
   ],
   "source": [
    "axes = sns.boxplot(data=groupedData, orient='h')\n",
    "axes.set(xlabel='Offensive Real Plus-Minus', ylabel='Team')\n",
    "axes.set_yticklabels(['CLE', 'GS'])"
   ]
  },
  {
   "cell_type": "markdown",
   "metadata": {},
   "source": [
    "# 3.1 Levene Test"
   ]
  },
  {
   "cell_type": "code",
   "execution_count": 116,
   "metadata": {},
   "outputs": [
    {
     "name": "stdout",
     "output_type": "stream",
     "text": [
      "(1.0763792775752914, 'significant')\n"
     ]
    }
   ],
   "source": [
    "def test_Levene(data):\n",
    "    # variance (дисперсия)\n",
    "    var_cle = data[0].var()\n",
    "    var_gs = data[1].var()\n",
    "    \n",
    "    df1 = len(data[0])-1\n",
    "    df2 = len(data[1])-1\n",
    "    \n",
    "    F = var_cle / var_gs\n",
    "    \n",
    "    if var_cle < var_gs:\n",
    "        # swap values\n",
    "        df1, df2 = df2, df1\n",
    "        F = pow(F,-1)\n",
    "    \n",
    "    if df1 > 10 and df1 < 15:\n",
    "        df1 = 15\n",
    "        \n",
    "    if df1 > 15:\n",
    "        df1 = '>15'\n",
    "        \n",
    "    if df2 > 20:\n",
    "        df2 = '>10'\n",
    "    \n",
    "    # skiprows = 1 => column titles\n",
    "    # skipfooter = 2 => last row text & empty column \n",
    "    table_leven = pd.read_excel('table_levene.xlsx',index_col=0, skiprows=1, skipfooter=2, index=False)\n",
    "    \n",
    "    significance = ''\n",
    "    if F < table_leven[df1][df2]:\n",
    "        significance = 'significant'\n",
    "    else:\n",
    "        significance = 'not significant'\n",
    "    \n",
    "    return F, significance\n",
    "\n",
    "returnValue = test_Levene(groupedData)\n",
    "print(returnValue)\n",
    "significanceValue = returnValue[1]\n",
    "is_significant = True if significance == 'significant' else False"
   ]
  },
  {
   "cell_type": "markdown",
   "metadata": {},
   "source": [
    "# 3.2 Student Test"
   ]
  },
  {
   "cell_type": "code",
   "execution_count": 118,
   "metadata": {},
   "outputs": [
    {
     "data": {
      "text/plain": [
       "(0.11395885775771442, 25, 'significant')"
      ]
     },
     "execution_count": 118,
     "metadata": {},
     "output_type": "execute_result"
    }
   ],
   "source": [
    "def test_tStudent(is_significant, data):\n",
    "\n",
    "    arr1 = data[0]\n",
    "    arr2 = data[1]\n",
    "    \n",
    "    df = len(arr1) +  len(arr2) - 2\n",
    "    \n",
    "    meanAbsDiff = abs(arr1.mean() - arr2.mean())\n",
    "    \n",
    "    if is_significant:\n",
    "        t = meanAbsDiff / np.sqrt( (arr1.var() / len(arr1)) + (arr2.var() / len(arr2)) )\n",
    "    else:\n",
    "        m1= (len(arr1) - 1)* arr1.var() + (len(arr2) - 1)*arr2.var() / df \n",
    "        m2= 1/len(arr1) + 1/len(arr2)\n",
    "        t = meansAbsDiff / np.sqrt(m1*m2)\n",
    "                                \n",
    "    table_student = pd.read_excel('table_student.xlsx',index_col=0, index=False)\n",
    "    \n",
    "    try:\n",
    "        compareValue = table_student.loc[df][0]\n",
    "    except KeyError:\n",
    "        df = table_student.index[abs(table_student.index[:-1]-df).argmin()]\n",
    "        compareValue = table_student.loc[df][0]\n",
    "        \n",
    "    significance = \"significant\" if t < compareValue else \"not significant\"\n",
    "    \n",
    "    return t, df, significance\n",
    "    \n",
    "test_tStudent(is_significant, groupedData)"
   ]
  },
  {
   "cell_type": "markdown",
   "metadata": {},
   "source": [
    "# 4. Результат аналізу\n",
    "\n",
    "За тестом **Лівеня** - приймається гіпотеза про однорідність дисперсій\n",
    "\n",
    "За тестом **т-Стьюдента** - приймається нульова гіпотеза про рівність середніх двох незалежних груп"
   ]
  }
 ],
 "metadata": {
  "colab": {
   "authorship_tag": "ABX9TyN+ogRjA4zijScFngnncBiH",
   "collapsed_sections": [],
   "name": "Tast7.ipynb",
   "provenance": []
  },
  "kernelspec": {
   "display_name": "Python 3",
   "language": "python",
   "name": "python3"
  },
  "language_info": {
   "codemirror_mode": {
    "name": "ipython",
    "version": 3
   },
   "file_extension": ".py",
   "mimetype": "text/x-python",
   "name": "python",
   "nbconvert_exporter": "python",
   "pygments_lexer": "ipython3",
   "version": "3.7.4"
  }
 },
 "nbformat": 4,
 "nbformat_minor": 1
}
