{
 "cells": [
  {
   "cell_type": "markdown",
   "metadata": {
    "colab_type": "text",
    "id": "weuwGEo2mJBC"
   },
   "source": [
    "# Дисперсійний аналіз"
   ]
  },
  {
   "cell_type": "markdown",
   "metadata": {
    "colab_type": "text",
    "id": "ZUzN4OAhmxkD"
   },
   "source": [
    "##Теоретичні відомості"
   ]
  },
  {
   "cell_type": "markdown",
   "metadata": {
    "colab_type": "text",
    "id": "GCJ4px_JmMeY"
   },
   "source": [
    "**Дисперсійний аналіз** - статистичний метод дослідження взаємозв'язку. Застосовується для аналізу впливу якісної змінної  на одну залежну (кількісну) змінну.\n",
    "В основі дисперсійного аналізу лежить припущення, що одні змінні можливо розглядати як причини (незалежні змінні), інші - як наслідки (залежні змінні). Незалежні змінні в дисперсійному аналізі називають факторами.\n",
    " У зарубежній літературі дисперсійний аналіз часто обозначається як ANOVA, що переводиться як аналіз варіативності (Analysis of Variance).\n",
    "\n",
    "Дисперсійний аналіз - параметричний метод.\n",
    "\n",
    "\n"
   ]
  },
  {
   "cell_type": "markdown",
   "metadata": {
    "colab_type": "text",
    "id": "t1MGzbZKm0QY"
   },
   "source": [
    "### Область застосування"
   ]
  },
  {
   "cell_type": "markdown",
   "metadata": {
    "colab_type": "text",
    "id": "u6P7khWWm16u"
   },
   "source": [
    "ANOVA використовують для визначення статистичних відмінностей у *середніх* значення двох або більше групп."
   ]
  },
  {
   "cell_type": "markdown",
   "metadata": {
    "colab_type": "text",
    "id": "LOW2EJNpm5oi"
   },
   "source": [
    "### Вимоги до даних"
   ]
  },
  {
   "cell_type": "markdown",
   "metadata": {
    "colab_type": "text",
    "id": "ldtCTT-2m6tf"
   },
   "source": [
    "Ваші дані повинні відповідати наступним вимогам:\n",
    "1. Залежна змінна має бути безперервною (кількісною).\n",
    "2. Незалежна змінна має бути категоріальною (містити дві або більше груп).\n",
    "3. Групи є незалежними.\n",
    "4. Залежна змінна має нормальний розподіл.\n",
    "5. Однорідність дисперсій. Групи мають приблизно однакові дисперсії.\n",
    "6. Залежна змінна не містить викидів.\n",
    "7. Кожна група має містити принаймні 6 спостережень.\n",
    "8. Сбалансований дизайн. В ідеалі, групи мають бути однаковими за розміром.\n"
   ]
  },
  {
   "cell_type": "markdown",
   "metadata": {
    "colab_type": "text",
    "id": "zcDHzLIZm6_R"
   },
   "source": [
    "### Гіпотеза"
   ]
  },
  {
   "cell_type": "markdown",
   "metadata": {
    "colab_type": "text",
    "id": "pYFVPpI6m899"
   },
   "source": [
    "Гіпотеза, яка перевіряєть даним тестом може бути виражена наступним чином:\n",
    "\n",
    "$H_0 : μ_1  = μ_2 = ... =  μ_n $ («середні  незалежних груп рівні»)\n",
    "\n",
    "$H_1 : μ_1  ≠ μ_2 ≠ ... ≠ μ_n$ («середні  незалежних груп відмінні»)"
   ]
  },
  {
   "cell_type": "markdown",
   "metadata": {
    "colab_type": "text",
    "id": "zo71OMQ6m9HF"
   },
   "source": [
    "### Алгоритм розрахунку"
   ]
  },
  {
   "cell_type": "markdown",
   "metadata": {
    "colab_type": "text",
    "id": "XWDrm4xAnDiE"
   },
   "source": [
    "Припустимо, що є три незалежні групи кожна з яких пройшла тест на запам'ятовування 10 слів. Першій групі слова демонструвалися з низькою швидкістю - 1 слово в 5 секунд, другій  з середньою швидкістю - 1 слово в 2 секунди, і третій групі з великою швидкістю - 1 слово в секунду.\n",
    "\n",
    "Прикладом задачі, яка вирішується методом дисперсійного аналізу є аналіз впливу швидкості демонстрації слів на результат тесту. \n",
    "\n",
    "n  | Група 1 (низька швидкість) | Група 2 (середня швидкість) | Група 3 (висока швидкість) |\n",
    "------------- | ------------- |--------- | ------------- | \n",
    "1  | 8   | 7   | 4   | \n",
    "2  | 7   | 8   |5   | \n",
    "3  | 9   | 5   |3   |\n",
    "4  | 5   | 4   |6   | \n",
    "5  | 6  | 6   |2  |  \n",
    "6  | 8   | 7  |4  | \n",
    "Сума  | 43   | 37  |24   |\n",
    "Середні  | 7,17   | 3,17   |4  | \n",
    "\n",
    "Загальна сума - 104\n",
    "\n",
    "Основні величини для однофакторного дисперсійного аналізу:\n",
    "1. $T_c$, cуми індивідуальних значень по кожнії з груп: 43, 37, 24.\n",
    "2. $\\sum{T^2_c}$,  cума квадратів сумарних значень по кожній з груп: $43^2 +  37^2 + 24^2 = 3794$\n",
    "3. $c$, кількість умов (градацій фактора/ груп): 3\n",
    "4. $n$, кількість досліджень в групах: 6, 6, 6.\n",
    "5. $N$, загальна кількість досліджень: 18.\n",
    "6. $(\\sum{x_i})^2$, квадрат загальної суми індивідуальних значень: 10 816\n",
    "7. $\\frac{(\\sum{x_i})^2}{N}$,Константа, яку потрібно відняти від кожної суми квадратів:  600,9\n",
    "8. $x_i$, індивідуальне значення\n",
    "9. $\\sum({x_i}^2)$, сума квадратів індивідуальних значень.\n",
    "\n",
    "\n",
    "Тоді, послідовність операцій в однофакторному дисперсійному аналізі виглядає наступним чином:\n",
    "1. Розрахувати внутрішньогрупову дисперсію ($SS_{факт}$).\n",
    "\n",
    "$$ SS_{факт}  = \\frac{\\sum{T^2_c}}{n} - \\frac{(\\sum{x_i})^2}{N} = \\frac{3794}{6} - \\frac{10 816}{18} = 31,44$$\n",
    "\n",
    "2. Розрахувати загальногрупову дисперсію ($SS_{заг}$).\n",
    "$$ SS_{заг} = \\sum({x_i}^2) - \\frac{(\\sum{x_i})^2}{N} =  8^2+7^2+9^2+5^2+6^2+8^2+7^2+7^2+8^2+5^2+ 4^2+ 6^2+ 7^2+ 4^2+ 5^2+ 3^2+ 6^2+ 2^2+ 4^2 - \\frac{104^2}{18} = 63,11$$\n",
    "\n",
    "3. Розрахувати випадкову (залишкову) величину $SS_{вип}$\n",
    "$$ SS_{вип} = SS_{заг} - SS_{факт} = 63,11 -31,44 = 31,67 $$\n",
    "\n",
    "4. Визначити кількість ступенів свободи:\n",
    "$$d_{факт} = c - 1 = 3 - 1 = 2$$\n",
    "$$d_{заг} = N - 1 = 18 - 1 = 17$$\n",
    "$$d_{вип} = d_{заг} - d_{факт} = 17 - 2 = 15$$\n",
    "\n",
    "5. Розділити кожну SS на відповідне число ступенів свободи:\n",
    "$$MS_{факт} = \\frac{SS_{факт}}{d_{факт}} = \\frac{31,44}{2} = 15,72$$\n",
    "$$MS_{вип} = \\frac{SS_{вип}}{d_{вип}} = \\frac{31,67}{15} = 2,11$$\n",
    "\n",
    "6. Розрахувати значення $F_{емпір}$\n",
    "$$ F_{емпір} = \\frac{MS_{факт}}{MS_{вип}} = \\frac{15,72}{2,11} = 7,45 $$\n",
    "\n",
    "7. Визначити критичне значення F по таблиці критичних значень: \n",
    "\n",
    "$$F_{крит(2,15)} = 3,7 $$\n",
    "\n",
    "8. Співставити емпіричне та критичне значення F.\n",
    "\n",
    "При $F_{емпір} \\geq F_{крит(2,15)}$ нульова гіпотеза про рівність середніх відхиляється.\n",
    "\n",
    "$$7,45 > 3,7$$ - рівність середніх не підтверджена.\n"
   ]
  },
  {
   "cell_type": "markdown",
   "metadata": {
    "colab_type": "text",
    "id": "9qiU_OebnDpv"
   },
   "source": [
    "### Завдання"
   ]
  },
  {
   "cell_type": "markdown",
   "metadata": {
    "colab_type": "text",
    "id": "NlTSSN6x6yTz"
   },
   "source": [
    "1. Розрахувати та вивести у вигляді таблиці статистичні характиристики даних (середні та стандартні відхилення для кожної з груп).\n",
    "2. Побудувати графік розкиду в групах.\n",
    "3. Побудувати функцію, що реалізовує однофакторний дисперсійний аналіз.\n",
    "4. Вивести результати розрахунку кожного з етапів вказаних вище у вигляді таблиці.\n",
    "5. Перевірити результат роботи функції на реальних або сгенерованих даних. Зробити висновок."
   ]
  },
  {
   "cell_type": "code",
   "execution_count": 110,
   "metadata": {},
   "outputs": [],
   "source": [
    "import pandas as pd\n",
    "import numpy as np\n",
    "import seaborn as sns"
   ]
  },
  {
   "cell_type": "markdown",
   "metadata": {},
   "source": [
    "# Team <-> Stars Salaries Dependency Analysis\n",
    "\n",
    "Аналіз впливу команди на зарплати їх зірок "
   ]
  },
  {
   "cell_type": "code",
   "execution_count": 3,
   "metadata": {},
   "outputs": [
    {
     "data": {
      "text/html": [
       "<div>\n",
       "<style scoped>\n",
       "    .dataframe tbody tr th:only-of-type {\n",
       "        vertical-align: middle;\n",
       "    }\n",
       "\n",
       "    .dataframe tbody tr th {\n",
       "        vertical-align: top;\n",
       "    }\n",
       "\n",
       "    .dataframe thead th {\n",
       "        text-align: right;\n",
       "    }\n",
       "</style>\n",
       "<table border=\"1\" class=\"dataframe\">\n",
       "  <thead>\n",
       "    <tr style=\"text-align: right;\">\n",
       "      <th></th>\n",
       "      <th>Unnamed: 0</th>\n",
       "      <th>Player</th>\n",
       "      <th>Tm</th>\n",
       "      <th>season17_18</th>\n",
       "    </tr>\n",
       "  </thead>\n",
       "  <tbody>\n",
       "    <tr>\n",
       "      <th>0</th>\n",
       "      <td>1</td>\n",
       "      <td>Stephen Curry</td>\n",
       "      <td>GSW</td>\n",
       "      <td>34682550.0</td>\n",
       "    </tr>\n",
       "    <tr>\n",
       "      <th>1</th>\n",
       "      <td>2</td>\n",
       "      <td>LeBron James</td>\n",
       "      <td>CLE</td>\n",
       "      <td>33285709.0</td>\n",
       "    </tr>\n",
       "    <tr>\n",
       "      <th>2</th>\n",
       "      <td>3</td>\n",
       "      <td>Paul Millsap</td>\n",
       "      <td>DEN</td>\n",
       "      <td>31269231.0</td>\n",
       "    </tr>\n",
       "    <tr>\n",
       "      <th>3</th>\n",
       "      <td>4</td>\n",
       "      <td>Gordon Hayward</td>\n",
       "      <td>BOS</td>\n",
       "      <td>29727900.0</td>\n",
       "    </tr>\n",
       "    <tr>\n",
       "      <th>4</th>\n",
       "      <td>5</td>\n",
       "      <td>Blake Griffin</td>\n",
       "      <td>DET</td>\n",
       "      <td>29512900.0</td>\n",
       "    </tr>\n",
       "    <tr>\n",
       "      <th>...</th>\n",
       "      <td>...</td>\n",
       "      <td>...</td>\n",
       "      <td>...</td>\n",
       "      <td>...</td>\n",
       "    </tr>\n",
       "    <tr>\n",
       "      <th>568</th>\n",
       "      <td>569</td>\n",
       "      <td>Quinn Cook</td>\n",
       "      <td>NOP</td>\n",
       "      <td>25000.0</td>\n",
       "    </tr>\n",
       "    <tr>\n",
       "      <th>569</th>\n",
       "      <td>570</td>\n",
       "      <td>Chris Johnson</td>\n",
       "      <td>HOU</td>\n",
       "      <td>25000.0</td>\n",
       "    </tr>\n",
       "    <tr>\n",
       "      <th>570</th>\n",
       "      <td>571</td>\n",
       "      <td>Beno Udrih</td>\n",
       "      <td>DET</td>\n",
       "      <td>25000.0</td>\n",
       "    </tr>\n",
       "    <tr>\n",
       "      <th>571</th>\n",
       "      <td>572</td>\n",
       "      <td>Joel Bolomboy</td>\n",
       "      <td>MIL</td>\n",
       "      <td>22248.0</td>\n",
       "    </tr>\n",
       "    <tr>\n",
       "      <th>572</th>\n",
       "      <td>573</td>\n",
       "      <td>Jarell Eddie</td>\n",
       "      <td>CHI</td>\n",
       "      <td>17224.0</td>\n",
       "    </tr>\n",
       "  </tbody>\n",
       "</table>\n",
       "<p>573 rows × 4 columns</p>\n",
       "</div>"
      ],
      "text/plain": [
       "     Unnamed: 0          Player   Tm  season17_18\n",
       "0             1   Stephen Curry  GSW   34682550.0\n",
       "1             2    LeBron James  CLE   33285709.0\n",
       "2             3    Paul Millsap  DEN   31269231.0\n",
       "3             4  Gordon Hayward  BOS   29727900.0\n",
       "4             5   Blake Griffin  DET   29512900.0\n",
       "..          ...             ...  ...          ...\n",
       "568         569      Quinn Cook  NOP      25000.0\n",
       "569         570   Chris Johnson  HOU      25000.0\n",
       "570         571      Beno Udrih  DET      25000.0\n",
       "571         572   Joel Bolomboy  MIL      22248.0\n",
       "572         573    Jarell Eddie  CHI      17224.0\n",
       "\n",
       "[573 rows x 4 columns]"
      ]
     },
     "execution_count": 3,
     "metadata": {},
     "output_type": "execute_result"
    }
   ],
   "source": [
    "dataset = pd.read_csv('NBA_season1718_salary.csv')\n",
    "dataset"
   ]
  },
  {
   "cell_type": "code",
   "execution_count": 139,
   "metadata": {},
   "outputs": [
    {
     "data": {
      "text/plain": [
       "[346.8255, 250.0, 178.2615, 164.0, 148.14815, 76.92308]"
      ]
     },
     "execution_count": 139,
     "metadata": {},
     "output_type": "execute_result"
    }
   ],
   "source": [
    "# main values\n",
    "\n",
    "#groups count\n",
    "c = 3\n",
    "\n",
    "n = 6\n",
    "\n",
    "N = 18\n",
    "\n",
    "# Golden State Warriors team salaries \n",
    "salaries_gsw = dataset.loc[ (dataset['Tm'] == 'GSW')]\n",
    "salaries_gsw = salaries_gsw.sort_values(by=['season17_18'], ascending=False)\n",
    "salaries_gsw = (salaries_gsw['season17_18'][:6] / 100000).tolist()\n",
    "salaries_gsw"
   ]
  },
  {
   "cell_type": "code",
   "execution_count": 140,
   "metadata": {},
   "outputs": [
    {
     "data": {
      "text/plain": [
       "[332.85709, 226.4235, 200.0, 164.0, 137.6, 115.625]"
      ]
     },
     "execution_count": 140,
     "metadata": {},
     "output_type": "execute_result"
    }
   ],
   "source": [
    "# Cleveland Cavaliers team salaries\n",
    "salaries_cle = dataset.loc[ (dataset['Tm'] == 'CLE')]\n",
    "salaries_cle = salaries_cle.sort_values(by=['season17_18'], ascending=False)\n",
    "salaries_cle = (salaries_cle['season17_18'][:6] / 100000).tolist()\n",
    "salaries_cle"
   ]
  },
  {
   "cell_type": "code",
   "execution_count": 141,
   "metadata": {},
   "outputs": [
    {
     "data": {
      "text/plain": [
       "[282.99399, 245.99495, 195.78455, 129.4302, 75.90035, 74.20912]"
      ]
     },
     "execution_count": 141,
     "metadata": {},
     "output_type": "execute_result"
    }
   ],
   "source": [
    "# Houston Rockets team salaries\n",
    "salaries_hou = dataset.loc[ (dataset['Tm'] == 'HOU')]\n",
    "salaries_hou = salaries_hou.sort_values(by=['season17_18'], ascending=False)\n",
    "salaries_hou = (salaries_hou['season17_18'][:6] / 100000).tolist()\n",
    "salaries_hou"
   ]
  },
  {
   "cell_type": "code",
   "execution_count": 142,
   "metadata": {},
   "outputs": [
    {
     "data": {
      "text/html": [
       "<div>\n",
       "<style scoped>\n",
       "    .dataframe tbody tr th:only-of-type {\n",
       "        vertical-align: middle;\n",
       "    }\n",
       "\n",
       "    .dataframe tbody tr th {\n",
       "        vertical-align: top;\n",
       "    }\n",
       "\n",
       "    .dataframe thead th {\n",
       "        text-align: right;\n",
       "    }\n",
       "</style>\n",
       "<table border=\"1\" class=\"dataframe\">\n",
       "  <thead>\n",
       "    <tr style=\"text-align: right;\">\n",
       "      <th></th>\n",
       "      <th>GSW</th>\n",
       "      <th>CLE</th>\n",
       "      <th>HOU</th>\n",
       "    </tr>\n",
       "  </thead>\n",
       "  <tbody>\n",
       "    <tr>\n",
       "      <th>1</th>\n",
       "      <td>346.82550</td>\n",
       "      <td>332.85709</td>\n",
       "      <td>282.99399</td>\n",
       "    </tr>\n",
       "    <tr>\n",
       "      <th>2</th>\n",
       "      <td>250.00000</td>\n",
       "      <td>226.42350</td>\n",
       "      <td>245.99495</td>\n",
       "    </tr>\n",
       "    <tr>\n",
       "      <th>3</th>\n",
       "      <td>178.26150</td>\n",
       "      <td>200.00000</td>\n",
       "      <td>195.78455</td>\n",
       "    </tr>\n",
       "    <tr>\n",
       "      <th>4</th>\n",
       "      <td>164.00000</td>\n",
       "      <td>164.00000</td>\n",
       "      <td>129.43020</td>\n",
       "    </tr>\n",
       "    <tr>\n",
       "      <th>5</th>\n",
       "      <td>148.14815</td>\n",
       "      <td>137.60000</td>\n",
       "      <td>75.90035</td>\n",
       "    </tr>\n",
       "    <tr>\n",
       "      <th>6</th>\n",
       "      <td>76.92308</td>\n",
       "      <td>115.62500</td>\n",
       "      <td>74.20912</td>\n",
       "    </tr>\n",
       "  </tbody>\n",
       "</table>\n",
       "</div>"
      ],
      "text/plain": [
       "         GSW        CLE        HOU\n",
       "1  346.82550  332.85709  282.99399\n",
       "2  250.00000  226.42350  245.99495\n",
       "3  178.26150  200.00000  195.78455\n",
       "4  164.00000  164.00000  129.43020\n",
       "5  148.14815  137.60000   75.90035\n",
       "6   76.92308  115.62500   74.20912"
      ]
     },
     "execution_count": 142,
     "metadata": {},
     "output_type": "execute_result"
    }
   ],
   "source": [
    "df_main = pd.DataFrame([salaries_gsw, salaries_cle, salaries_hou], index = ['GSW', 'CLE', 'HOU']).transpose()\n",
    "df_main.index += 1\n",
    "df_main"
   ]
  },
  {
   "cell_type": "markdown",
   "metadata": {},
   "source": [
    "#### 1. Розрахувати та вивести у вигляді таблиці статистичні характиристики даних (середні та стандартні відхилення для кожної з груп)."
   ]
  },
  {
   "cell_type": "code",
   "execution_count": 143,
   "metadata": {},
   "outputs": [
    {
     "data": {
      "text/html": [
       "<div>\n",
       "<style scoped>\n",
       "    .dataframe tbody tr th:only-of-type {\n",
       "        vertical-align: middle;\n",
       "    }\n",
       "\n",
       "    .dataframe tbody tr th {\n",
       "        vertical-align: top;\n",
       "    }\n",
       "\n",
       "    .dataframe thead th {\n",
       "        text-align: right;\n",
       "    }\n",
       "</style>\n",
       "<table border=\"1\" class=\"dataframe\">\n",
       "  <thead>\n",
       "    <tr style=\"text-align: right;\">\n",
       "      <th></th>\n",
       "      <th>GSW</th>\n",
       "      <th>CLE</th>\n",
       "      <th>HOU</th>\n",
       "    </tr>\n",
       "  </thead>\n",
       "  <tbody>\n",
       "    <tr>\n",
       "      <th>1</th>\n",
       "      <td>346.825500</td>\n",
       "      <td>332.857090</td>\n",
       "      <td>282.993990</td>\n",
       "    </tr>\n",
       "    <tr>\n",
       "      <th>2</th>\n",
       "      <td>250.000000</td>\n",
       "      <td>226.423500</td>\n",
       "      <td>245.994950</td>\n",
       "    </tr>\n",
       "    <tr>\n",
       "      <th>3</th>\n",
       "      <td>178.261500</td>\n",
       "      <td>200.000000</td>\n",
       "      <td>195.784550</td>\n",
       "    </tr>\n",
       "    <tr>\n",
       "      <th>4</th>\n",
       "      <td>164.000000</td>\n",
       "      <td>164.000000</td>\n",
       "      <td>129.430200</td>\n",
       "    </tr>\n",
       "    <tr>\n",
       "      <th>5</th>\n",
       "      <td>148.148150</td>\n",
       "      <td>137.600000</td>\n",
       "      <td>75.900350</td>\n",
       "    </tr>\n",
       "    <tr>\n",
       "      <th>6</th>\n",
       "      <td>76.923080</td>\n",
       "      <td>115.625000</td>\n",
       "      <td>74.209120</td>\n",
       "    </tr>\n",
       "    <tr>\n",
       "      <th>Сума</th>\n",
       "      <td>1164.158230</td>\n",
       "      <td>1176.505590</td>\n",
       "      <td>1004.313160</td>\n",
       "    </tr>\n",
       "    <tr>\n",
       "      <th>Середні</th>\n",
       "      <td>194.026372</td>\n",
       "      <td>196.084265</td>\n",
       "      <td>167.385527</td>\n",
       "    </tr>\n",
       "    <tr>\n",
       "      <th>Стандартне Відхилення</th>\n",
       "      <td>85.096736</td>\n",
       "      <td>71.374728</td>\n",
       "      <td>80.460394</td>\n",
       "    </tr>\n",
       "  </tbody>\n",
       "</table>\n",
       "</div>"
      ],
      "text/plain": [
       "                               GSW          CLE          HOU\n",
       "1                       346.825500   332.857090   282.993990\n",
       "2                       250.000000   226.423500   245.994950\n",
       "3                       178.261500   200.000000   195.784550\n",
       "4                       164.000000   164.000000   129.430200\n",
       "5                       148.148150   137.600000    75.900350\n",
       "6                        76.923080   115.625000    74.209120\n",
       "Сума                   1164.158230  1176.505590  1004.313160\n",
       "Середні                 194.026372   196.084265   167.385527\n",
       "Стандартне Відхилення    85.096736    71.374728    80.460394"
      ]
     },
     "execution_count": 143,
     "metadata": {},
     "output_type": "execute_result"
    }
   ],
   "source": [
    "df_main\n",
    "df_devs = pd.DataFrame([\n",
    "    [np.sum(salaries_gsw), np.sum(salaries_cle), np.sum(salaries_hou)],\n",
    "    [np.mean(salaries_gsw), np.mean(salaries_cle), np.mean(salaries_hou)],\n",
    "    [np.std(salaries_gsw), np.std(salaries_cle), np.std(salaries_hou)],\n",
    "], \n",
    "                     columns = df_main.columns,\n",
    "                    index=['Сума', 'Середні', 'Стандартне Відхилення'])\n",
    "\n",
    "df_main.append(df_devs)"
   ]
  },
  {
   "cell_type": "markdown",
   "metadata": {},
   "source": [
    "#### 2. Побудувати графік розкиду в групах."
   ]
  },
  {
   "cell_type": "code",
   "execution_count": 144,
   "metadata": {},
   "outputs": [
    {
     "data": {
      "text/plain": [
       "<matplotlib.axes._subplots.AxesSubplot at 0x1f287187a48>"
      ]
     },
     "execution_count": 144,
     "metadata": {},
     "output_type": "execute_result"
    },
    {
     "data": {
      "image/png": "[encoded data removed]",
      "text/plain": [
       "<Figure size 432x288 with 1 Axes>"
      ]
     },
     "metadata": {
      "needs_background": "light"
     },
     "output_type": "display_data"
    }
   ],
   "source": [
    "# Scatter Plot\n",
    "sns.scatterplot(data=df_main)"
   ]
  },
  {
   "cell_type": "markdown",
   "metadata": {},
   "source": [
    "#### 3. Побудувати функцію, що реалізовує однофакторний дисперсійний аналіз\n",
    "#### 4. Вивести результати розрахунку кожного з етапів вказаних вище у вигляді таблиці"
   ]
  },
  {
   "cell_type": "code",
   "execution_count": 153,
   "metadata": {},
   "outputs": [
    {
     "data": {
      "text/plain": [
       "[120287.92745024999,\n",
       " 62500.0,\n",
       " 31777.162382250004,\n",
       " 26896.0,\n",
       " 21947.874348422498,\n",
       " 5917.1602366864,\n",
       " 110793.84236326812,\n",
       " 51267.60135224999,\n",
       " 40000.0,\n",
       " 26896.0,\n",
       " 18933.76,\n",
       " 13369.140625,\n",
       " 80085.59837612009,\n",
       " 60513.5154255025,\n",
       " 38331.590018702496,\n",
       " 16752.176672040005,\n",
       " 5760.8631301225005,\n",
       " 5506.993491174399]"
      ]
     },
     "execution_count": 153,
     "metadata": {},
     "output_type": "execute_result"
    }
   ],
   "source": [
    "# 1. 𝑇𝑐 , cуми індивідуальних значень по кожнії з груп:\n",
    "T_c = df_devs.loc['Сума', :].to_list()\n",
    "#T_c\n",
    "\n",
    "# 2. ∑𝑇2𝑐 , cума квадратів сумарних значень по кожній з груп:\n",
    "sum_Tc_squared = np.sum([val*val for val in T_c])\n",
    "#sum_Tc_squared\n",
    "\n",
    "# 3. 𝑐 , кількість умов (градацій фактора/ груп): 3\n",
    "c = 3\n",
    "# 4. 𝑛 , кількість досліджень в групах: 6, 6, 6.\n",
    "n = 6\n",
    "# 5. 𝑁 , загальна кількість досліджень: 18.\n",
    "N = n*c\n",
    "\n",
    "# 6. ∑(𝑥𝑖)2 , квадрат загальної суми індивідуальних значень:\n",
    "main_sum_squared = pow(np.sum(salaries_gsw) +\n",
    "np.sum(salaries_cle) + \n",
    "np.sum(salaries_hou), 2)\n",
    "#main_sum_squared\n",
    "\n",
    "# 7. (∑𝑥𝑖)2𝑁 ,Константа, яку потрібно відняти від кожної суми квадратів:\n",
    "diff_const = main_sum_squared / N\n",
    "#diff_const\n",
    "\n",
    "# 8. індивідуальне значення ; salaries_gsw, salaries_cle and salaries_hou\n",
    "individual_values = []\n",
    "individual_values.extend(salaries_gsw)\n",
    "individual_values.extend(salaries_cle)\n",
    "individual_values.extend(salaries_hou)\n",
    "#individual_values\n",
    "\n",
    "# 9. ∑(𝑥𝑖2) , сума квадратів індивідуальних значень\n",
    "\n",
    "sum_squared_ind_values = [val*val for val in individual_values]\n",
    "#sum_squared_ind_values"
   ]
  },
  {
   "cell_type": "code",
   "execution_count": 160,
   "metadata": {},
   "outputs": [
    {
     "data": {
      "text/html": [
       "<div>\n",
       "<style scoped>\n",
       "    .dataframe tbody tr th:only-of-type {\n",
       "        vertical-align: middle;\n",
       "    }\n",
       "\n",
       "    .dataframe tbody tr th {\n",
       "        vertical-align: top;\n",
       "    }\n",
       "\n",
       "    .dataframe thead th {\n",
       "        text-align: right;\n",
       "    }\n",
       "</style>\n",
       "<table border=\"1\" class=\"dataframe\">\n",
       "  <thead>\n",
       "    <tr style=\"text-align: right;\">\n",
       "      <th></th>\n",
       "      <th>Розраховане значення</th>\n",
       "    </tr>\n",
       "  </thead>\n",
       "  <tbody>\n",
       "    <tr>\n",
       "      <th>SS_факт</th>\n",
       "      <td>3075.17</td>\n",
       "    </tr>\n",
       "    <tr>\n",
       "      <th>SS_заг</th>\n",
       "      <td>115933</td>\n",
       "    </tr>\n",
       "    <tr>\n",
       "      <th>SS_вип</th>\n",
       "      <td>112858</td>\n",
       "    </tr>\n",
       "    <tr>\n",
       "      <th>d_факт</th>\n",
       "      <td>2</td>\n",
       "    </tr>\n",
       "    <tr>\n",
       "      <th>d_заг</th>\n",
       "      <td>17</td>\n",
       "    </tr>\n",
       "    <tr>\n",
       "      <th>d_вип</th>\n",
       "      <td>15</td>\n",
       "    </tr>\n",
       "    <tr>\n",
       "      <th>MS_факт</th>\n",
       "      <td>1537.59</td>\n",
       "    </tr>\n",
       "    <tr>\n",
       "      <th>MS_вип</th>\n",
       "      <td>7523.87</td>\n",
       "    </tr>\n",
       "    <tr>\n",
       "      <th>F_емп</th>\n",
       "      <td>0.204361</td>\n",
       "    </tr>\n",
       "    <tr>\n",
       "      <th>F_крит</th>\n",
       "      <td>3.68</td>\n",
       "    </tr>\n",
       "    <tr>\n",
       "      <th>Рівність середніх</th>\n",
       "      <td>True</td>\n",
       "    </tr>\n",
       "  </tbody>\n",
       "</table>\n",
       "</div>"
      ],
      "text/plain": [
       "                  Розраховане значення\n",
       "SS_факт                        3075.17\n",
       "SS_заг                          115933\n",
       "SS_вип                          112858\n",
       "d_факт                               2\n",
       "d_заг                               17\n",
       "d_вип                               15\n",
       "MS_факт                        1537.59\n",
       "MS_вип                         7523.87\n",
       "F_емп                         0.204361\n",
       "F_крит                            3.68\n",
       "Рівність середніх                 True"
      ]
     },
     "execution_count": 160,
     "metadata": {},
     "output_type": "execute_result"
    }
   ],
   "source": [
    "def analysis_anova(data, v1, v2, v3):\n",
    "    # 1. 𝑇𝑐 , cуми індивідуальних значень по кожнії з груп:\n",
    "    T_c = data.loc['Сума', :].to_list()\n",
    "    #T_c\n",
    "\n",
    "    # 2. ∑𝑇2𝑐 , cума квадратів сумарних значень по кожній з груп:\n",
    "    sum_Tc_squared = np.sum([val*val for val in T_c])\n",
    "    #sum_Tc_squared\n",
    "\n",
    "    # 3. 𝑐 , кількість умов (градацій фактора/ груп): 3\n",
    "    c = 3\n",
    "    # 4. 𝑛 , кількість досліджень в групах: 6, 6, 6.\n",
    "    n = 6\n",
    "    # 5. 𝑁 , загальна кількість досліджень: 18.\n",
    "    N = 18\n",
    "\n",
    "    # 6. ∑(𝑥𝑖)2 , квадрат загальної суми індивідуальних значень:\n",
    "    main_sum_squared = pow(np.sum(v1) +\n",
    "    np.sum(v2) + \n",
    "    np.sum(v3), 2)\n",
    "    #main_sum_squared\n",
    "\n",
    "    # 7. (∑𝑥𝑖)2𝑁 ,Константа, яку потрібно відняти від кожної суми квадратів:\n",
    "    diff_const = main_sum_squared / N\n",
    "    #diff_const\n",
    "\n",
    "    # 8. індивідуальне значення ; salaries_gsw, salaries_cle and salaries_hou\n",
    "    individual_values = []\n",
    "    individual_values.extend(v1)\n",
    "    individual_values.extend(v2)\n",
    "    individual_values.extend(v3)\n",
    "    #individual_values\n",
    "\n",
    "    # 9. ∑(𝑥𝑖2) , сума квадратів індивідуальних значень\n",
    "\n",
    "    sum_squared_ind_values = np.sum([val*val for val in individual_values])\n",
    "    #sum_squared_ind_values\n",
    "    \n",
    "    SS_fact = (sum_Tc_squared / n) - (main_sum_squared / N)\n",
    "    SS_gen = sum_squared_ind_values - (main_sum_squared / N)\n",
    "    SS_prob = SS_gen - SS_fact\n",
    "    \n",
    "    d_fact = c - 1\n",
    "    d_gen = N - 1\n",
    "    d_prob = d_gen - d_fact\n",
    "    \n",
    "    MS_fact = SS_fact / d_fact\n",
    "    MS_prob = SS_prob / d_prob\n",
    "    \n",
    "    F_emp = MS_fact / MS_prob\n",
    "      \n",
    "    table_fischer = pd.read_excel('table_fischer.xlsx',index_col=0, skiprows=1, index=False)\n",
    "    \n",
    "    f1_values = table_fischer.columns.tolist()\n",
    "    f2_values = table_fischer.index.tolist()\n",
    "    \n",
    "    try:\n",
    "        f1 = f1_values[f1_values.index(d_fact)]\n",
    "    except KeyError:\n",
    "        if d_fact > 34:\n",
    "            f1 = '>40'\n",
    "        else:\n",
    "            f1_cut = f1_values[:-1]\n",
    "            nearest_index = (abs(f1_cut - d_fact)).argmin()\n",
    "            f1 = f1_cut[nearest_index]\n",
    "    \n",
    "    try:\n",
    "        f2 = f2_values[f2_values.index(d_prob)]\n",
    "    except KeyError:\n",
    "        if d_prob >= 130:\n",
    "            f2 = '>130'\n",
    "        else:\n",
    "            f2_cut = f2_values[:-1]\n",
    "            nearest_index = (abs(f2_cut - d_rest)).argmin()\n",
    "            f2 = f2_cut[nearest_index]\n",
    "    \n",
    "    F_critical = table_fischer.loc[f2, f1]\n",
    "    \n",
    "    stats = pd.DataFrame(\n",
    "        [SS_fact, SS_gen, SS_prob, d_fact, d_gen,\n",
    "         d_prob, MS_fact, MS_prob, F_emp, F_critical, F_emp<F_critical],\n",
    "                     columns = ['Розраховане значення'],\n",
    "                     index = ['SS_факт', 'SS_заг', 'SS_вип', 'd_факт', 'd_заг',\n",
    "                              'd_вип', 'MS_факт', 'MS_вип', 'F_емп', 'F_крит', \n",
    "                              'Рівність середніх'])\n",
    "    \n",
    "    return stats\n",
    "\n",
    "returnValue = analysis_anova(df_devs, salaries_gsw, salaries_cle, salaries_hou)\n",
    "returnValue"
   ]
  },
  {
   "cell_type": "markdown",
   "metadata": {},
   "source": [
    "#### 5. Перевірити результат роботи функції на реальних або сгенерованих даних. Зробити висновок.\n",
    "\n",
    "В результаті аналізу, було досліджено, що емпіричний критерій Фішера менше за критичний, тому нульова гіпотеза про рівність середніх приймається"
   ]
  }
 ],
 "metadata": {
  "colab": {
   "authorship_tag": "ABX9TyPz43bweI3Rw31Fk91MPGuX",
   "collapsed_sections": [],
   "name": "КП8.ipynb",
   "provenance": []
  },
  "kernelspec": {
   "display_name": "Python 3",
   "language": "python",
   "name": "python3"
  },
  "language_info": {
   "codemirror_mode": {
    "name": "ipython",
    "version": 3
   },
   "file_extension": ".py",
   "mimetype": "text/x-python",
   "name": "python",
   "nbconvert_exporter": "python",
   "pygments_lexer": "ipython3",
   "version": "3.7.4"
  }
 },
 "nbformat": 4,
 "nbformat_minor": 1
}
